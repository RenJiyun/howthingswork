{
 "metadata": {
  "language_info": {
   "codemirror_mode": {
    "name": "ipython",
    "version": 3
   },
   "file_extension": ".py",
   "mimetype": "text/x-python",
   "name": "python",
   "nbconvert_exporter": "python",
   "pygments_lexer": "ipython3",
   "version": "3.8.5-final"
  },
  "orig_nbformat": 2,
  "kernelspec": {
   "name": "python3",
   "display_name": "Python 3"
  }
 },
 "nbformat": 4,
 "nbformat_minor": 2,
 "cells": [
  {
   "cell_type": "code",
   "execution_count": 5,
   "metadata": {},
   "outputs": [
    {
     "output_type": "execute_result",
     "data": {
      "text/plain": [
       "[(1, 'renjiyun'),\n",
       " (2, 'renjiyun'),\n",
       " (3, 'renjiyun'),\n",
       " (4, 'renjiyun'),\n",
       " (7, 'renjiyun'),\n",
       " (8, 'renjiyun'),\n",
       " (9, 'renjiyun'),\n",
       " (10, 'renjiyun'),\n",
       " (11, 'renjiyun'),\n",
       " (12, 'renjiyun')]"
      ]
     },
     "metadata": {},
     "execution_count": 5
    }
   ],
   "source": [
    "import mysql.connector\n",
    "conn = mysql.connector.connect(host='localhost', port='13306',user='root', password='123456', database='test')\n",
    "cursor = conn.cursor()\n",
    "cursor.execute('select * from user')\n",
    "values = cursor.fetchall()\n",
    "values\n"
   ]
  }
 ]
}